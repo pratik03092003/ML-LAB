{
  "nbformat": 4,
  "nbformat_minor": 0,
  "metadata": {
    "colab": {
      "provenance": []
    },
    "kernelspec": {
      "name": "python3",
      "display_name": "Python 3"
    },
    "language_info": {
      "name": "python"
    }
  },
  "cells": [
    {
      "cell_type": "code",
      "execution_count": 9,
      "metadata": {
        "colab": {
          "base_uri": "https://localhost:8080/"
        },
        "id": "bcL-NsYz_t0l",
        "outputId": "e21ca51e-33c6-4e35-aff6-3b6557e46245"
      },
      "outputs": [
        {
          "output_type": "stream",
          "name": "stdout",
          "text": [
            "{'Outlook': {'Sunny': {'Humidity': {'High': 'No', 'Normal': 'Yes'}}, 'Overcast': 'Yes', 'Rain': {'Wind': {'Weak': 'Yes', 'Strong': 'No'}}}}\n"
          ]
        }
      ],
      "source": [
        "import numpy as np\n",
        "import pandas as pd\n",
        "from collections import Counter\n",
        "import json\n",
        "\n",
        "# Function to calculate entropy\n",
        "def entropy(data):\n",
        "    labels = data.iloc[:, -1]\n",
        "    label_counts = Counter(labels)\n",
        "    total = len(labels)\n",
        "    return -sum((count/total) * np.log2(count/total) for count in label_counts.values())\n",
        "\n",
        "# Function to calculate information gain\n",
        "def information_gain(data, attribute):\n",
        "    total_entropy = entropy(data)\n",
        "    values = data[attribute].unique()\n",
        "    weighted_entropy = sum((len(subset) / len(data)) * entropy(subset)\n",
        "                           for value in values\n",
        "                           for subset in [data[data[attribute] == value]])\n",
        "    return total_entropy - weighted_entropy\n",
        "\n",
        "# Function to choose the best attribute\n",
        "def best_attribute(data):\n",
        "    attributes = data.columns[:-1]\n",
        "    return max(attributes, key=lambda attr: information_gain(data, attr))\n",
        "\n",
        "# Function to build the decision tree recursively\n",
        "def id3(data, features):\n",
        "    labels = data.iloc[:, -1]\n",
        "    if len(set(labels)) == 1:\n",
        "        return labels.iloc[0]\n",
        "    if len(features) == 0:\n",
        "\n",
        "        return labels.mode()[0]\n",
        "\n",
        "    best_attr = best_attribute(data)\n",
        "    tree = {best_attr: {}}\n",
        "\n",
        "    for value in data[best_attr].unique():\n",
        "        subset = data[data[best_attr] == value].drop(columns=[best_attr])\n",
        "        tree[best_attr][value] = id3(subset, subset.columns[:-1])\n",
        "\n",
        "    return tree\n",
        "\n",
        "# Example dataset\n",
        "data = pd.DataFrame({\n",
        "    'Outlook': ['Sunny', 'Sunny', 'Overcast', 'Rain', 'Rain', 'Rain', 'Overcast', 'Sunny', 'Sunny', 'Rain', 'Sunny', 'Overcast', 'Overcast', 'Rain'],\n",
        "    'Temperature': ['Hot', 'Hot', 'Hot', 'Mild', 'Cool', 'Cool', 'Cool', 'Mild', 'Cool', 'Mild', 'Mild', 'Mild', 'Hot', 'Mild'],\n",
        "    'Humidity': ['High', 'High', 'High', 'High', 'Normal', 'Normal', 'Normal', 'High', 'Normal', 'Normal', 'Normal', 'High', 'Normal', 'High'],\n",
        "    'Wind': ['Weak', 'Strong', 'Weak', 'Weak', 'Weak', 'Strong', 'Strong', 'Weak', 'Weak', 'Weak', 'Strong', 'Strong', 'Weak', 'Strong'],\n",
        "    'PlayTennis': ['No', 'No', 'Yes', 'Yes', 'Yes', 'No', 'Yes', 'No', 'Yes', 'Yes', 'Yes', 'Yes', 'Yes', 'No']\n",
        "})\n",
        "\n",
        "# Build the decision tree\n",
        "decision_tree = id3(data, list(data.columns[:-1]))\n",
        "\n",
        "print(decision_tree)\n"
      ]
    }
  ]
}